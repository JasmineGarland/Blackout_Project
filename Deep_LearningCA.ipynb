{
  "cells": [
    {
      "cell_type": "markdown",
      "metadata": {
        "id": "view-in-github",
        "colab_type": "text"
      },
      "source": [
        "<a href=\"https://colab.research.google.com/github/JasmineGarland/Blackout_Project/blob/Code/Deep_LearningCA.ipynb\" target=\"_parent\"><img src=\"https://colab.research.google.com/assets/colab-badge.svg\" alt=\"Open In Colab\"/></a>"
      ]
    },
    {
      "cell_type": "code",
      "execution_count": null,
      "metadata": {
        "id": "KO4dO2DGcoM8"
      },
      "outputs": [],
      "source": [
        "import pandas as pd\n",
        "import numpy as np \n",
        "import matplotlib.pyplot as plt\n",
        "import sklearn"
      ]
    },
    {
      "cell_type": "code",
      "execution_count": null,
      "metadata": {
        "id": "H9NzSS3UcoM_"
      },
      "outputs": [],
      "source": [
        "import seaborn as sns\n",
        "import matplotlib as mpl\n",
        "import matplotlib.pyplot as plt\n",
        "%matplotlib inline\n",
        "from mpl_toolkits.mplot3d import Axes3D\n",
        "from matplotlib.collections import PolyCollection"
      ]
    },
    {
      "cell_type": "code",
      "execution_count": null,
      "metadata": {
        "id": "rN0E4Zn2dAnW"
      },
      "outputs": [],
      "source": [
        "# These commands allow you to read directly from Morteza's CU GoogleDrive containing the Data\n",
        "from pydrive.auth import GoogleAuth\n",
        "from pydrive.drive import GoogleDrive\n",
        "from google.colab import auth\n",
        "from oauth2client.client import GoogleCredentials\n",
        "auth.authenticate_user()  # Authenticate and create the PyDrive client. \n",
        "gauth = GoogleAuth()\n",
        "gauth.credentials = GoogleCredentials.get_application_default()\n",
        "drive = GoogleDrive(gauth)\n",
        "def pd_read_csv_drive(id, drive, dtype=None):\n",
        "  downloaded = drive.CreateFile({'id':id}) \n",
        "  downloaded.GetContentFile('Filename.csv')  \n",
        "  return(pd.read_csv('Filename.csv',dtype=dtype))"
      ]
    },
    {
      "cell_type": "code",
      "execution_count": null,
      "metadata": {
        "colab": {
          "base_uri": "https://localhost:8080/"
        },
        "id": "ERqpAkgeoufp",
        "outputId": "ac48d2d5-7f75-47b6-ff90-250cafc24b73"
      },
      "outputs": [
        {
          "output_type": "stream",
          "name": "stdout",
          "text": [
            "Mounted at /content/gdrive/\n",
            "/content/gdrive/MyDrive/Garland_GAANNFellowshipResearch/Blackouts_classproject\n"
          ]
        }
      ],
      "source": [
        "from google.colab import drive\n",
        "\n",
        "drive.mount('/content/gdrive/', force_remount=True)\n",
        "\n",
        "%cd gdrive/MyDrive/Garland_GAANNFellowshipResearch/Blackouts_classproject\n"
      ]
    },
    {
      "cell_type": "markdown",
      "metadata": {
        "id": "pIirtJ6Ojnrk"
      },
      "source": [
        "## 1- Loading Data"
      ]
    },
    {
      "cell_type": "code",
      "execution_count": null,
      "metadata": {
        "colab": {
          "base_uri": "https://localhost:8080/",
          "height": 71
        },
        "id": "myrnrjrng8BX",
        "outputId": "562827f0-423b-424b-d6e3-305fb8ea8cbc"
      },
      "outputs": [
        {
          "output_type": "execute_result",
          "data": {
            "text/plain": [
              "\"\\noe_style = OneHotEncoder()\\noe_results = oe_style.fit_transform(df[['EVENT_TYPE']])\\none_c = pd.DataFrame(oe_results.toarray(), columns=oe_style.categories_)\\n\\ndf_encoded = pd.merge(df, one_c, left_index=True, right_index=True)\\n\\ndf_encoded = pd.merge(df, one_c, left_index=True, right_index=True)\\n\""
            ],
            "application/vnd.google.colaboratory.intrinsic+json": {
              "type": "string"
            }
          },
          "metadata": {},
          "execution_count": 5
        }
      ],
      "source": [
        "#Reading the map file off Morteza's drive\n",
        "#Reading the map file off Morteza's drive\n",
        "\n",
        "df_blackout = pd.read_parquet('CA_20172020_blackout.parquet')\n",
        "df =  df_blackout[round(df_blackout['Duration_hour']) >= 1].reset_index()\n",
        "#df.CountyFIPS = df.CountyFIPS.astype(int)\n",
        "#df_gb = df.groupby('Location')\n",
        "#df = df_gb.get_group('San Bernardino').reset_index()\n",
        "'''\n",
        "oe_style = OneHotEncoder()\n",
        "oe_results = oe_style.fit_transform(df[['EVENT_TYPE']])\n",
        "one_c = pd.DataFrame(oe_results.toarray(), columns=oe_style.categories_)\n",
        "\n",
        "df_encoded = pd.merge(df, one_c, left_index=True, right_index=True)\n",
        "\n",
        "df_encoded = pd.merge(df, one_c, left_index=True, right_index=True)\n",
        "'''"
      ]
    },
    {
      "cell_type": "markdown",
      "metadata": {
        "id": "UF9xapdzcoNH"
      },
      "source": [
        "### 1.1- Checking for Missing Values"
      ]
    },
    {
      "cell_type": "code",
      "execution_count": null,
      "metadata": {
        "id": "jQ22baxHhWFJ"
      },
      "outputs": [],
      "source": [
        "covid_df = df"
      ]
    },
    {
      "cell_type": "markdown",
      "metadata": {
        "id": "oosOMa97lJkC"
      },
      "source": [
        "### 1.2- EDA"
      ]
    },
    {
      "cell_type": "code",
      "execution_count": null,
      "metadata": {
        "id": "p9cI0pukFytF"
      },
      "outputs": [],
      "source": [
        "#Dropping some  columns for time T. They won't be used in prediction. \n",
        "\n",
        "\n",
        "covid_df.drop(columns=['index', 'UtilityName', 'StateName', 'Location', 'CityName', 'Blackout_Start', 'Blackout_End', 'Duration_min',\n",
        "                            'Total', 'White alone', 'Black or African American alone',\n",
        "       'American Indian and Alaska Native alone', 'Asian alone',\n",
        "       'Native Hawaiian and Other Pacific Islander alone',\n",
        "       'Some other race alone', 'Two or more races',\n",
        "       'Two or more races: Two races including Some other race',\n",
        "       'Two or more races: Two races excluding Some other race, and three or more races',\n",
        "       'Total_FPL', 'Under .50', '.50 to .99', '1.00 to 1.24', '1.25 to 1.49',\n",
        "       '1.50 to 1.84', '1.85 to 1.99', '2.00 and over', 'EVENT_TYPE', 'Blackout_Duration', 'GEOID'\n",
        "                            ],inplace=True)"
      ]
    },
    {
      "cell_type": "code",
      "execution_count": null,
      "metadata": {
        "colab": {
          "base_uri": "https://localhost:8080/",
          "height": 328
        },
        "id": "7uahDxg2OXhp",
        "outputId": "0938459b-cee0-4871-c6b8-a8776e7cb768"
      },
      "outputs": [
        {
          "output_type": "execute_result",
          "data": {
            "text/plain": [
              "                        count        mean         std     min     25%     50%  \\\n",
              "Day                 1126006.0   15.712769    8.683823   1.000    8.00   16.00   \n",
              "Hour                1126006.0   13.866334    7.241117   0.000    7.00   16.00   \n",
              "Precipitable Water  1126006.0    1.562644    0.758127   0.086    1.00    1.40   \n",
              "Wind Direction      1126006.0  216.383988   93.640347   0.000  158.00  242.00   \n",
              "Temperature         1126006.0   16.603726    7.914361 -17.000   11.10   15.20   \n",
              "Relative Humidity   1126006.0   60.907102   25.747490   2.150   39.73   63.87   \n",
              "Dew Point           1126006.0    6.981577    5.796223 -28.600    4.00    8.20   \n",
              "GHI                 1126006.0  126.842274  228.626998   0.000    0.00    0.00   \n",
              "Wind Speed          1126006.0    2.044841    1.316815   0.000    1.00    1.70   \n",
              "\n",
              "                       75%     max  \n",
              "Day                  23.00    31.0  \n",
              "Hour                 19.00    23.0  \n",
              "Precipitable Water    2.00     6.0  \n",
              "Wind Direction      288.00   360.0  \n",
              "Temperature          21.40    46.5  \n",
              "Relative Humidity    83.85   100.0  \n",
              "Dew Point            11.00    22.7  \n",
              "GHI                 158.00  1088.0  \n",
              "Wind Speed            2.80    13.0  "
            ],
            "text/html": [
              "\n",
              "  <div id=\"df-2626bcd6-f7f3-4c1e-8a74-8f3bc09e5639\">\n",
              "    <div class=\"colab-df-container\">\n",
              "      <div>\n",
              "<style scoped>\n",
              "    .dataframe tbody tr th:only-of-type {\n",
              "        vertical-align: middle;\n",
              "    }\n",
              "\n",
              "    .dataframe tbody tr th {\n",
              "        vertical-align: top;\n",
              "    }\n",
              "\n",
              "    .dataframe thead th {\n",
              "        text-align: right;\n",
              "    }\n",
              "</style>\n",
              "<table border=\"1\" class=\"dataframe\">\n",
              "  <thead>\n",
              "    <tr style=\"text-align: right;\">\n",
              "      <th></th>\n",
              "      <th>count</th>\n",
              "      <th>mean</th>\n",
              "      <th>std</th>\n",
              "      <th>min</th>\n",
              "      <th>25%</th>\n",
              "      <th>50%</th>\n",
              "      <th>75%</th>\n",
              "      <th>max</th>\n",
              "    </tr>\n",
              "  </thead>\n",
              "  <tbody>\n",
              "    <tr>\n",
              "      <th>Day</th>\n",
              "      <td>1126006.0</td>\n",
              "      <td>15.712769</td>\n",
              "      <td>8.683823</td>\n",
              "      <td>1.000</td>\n",
              "      <td>8.00</td>\n",
              "      <td>16.00</td>\n",
              "      <td>23.00</td>\n",
              "      <td>31.0</td>\n",
              "    </tr>\n",
              "    <tr>\n",
              "      <th>Hour</th>\n",
              "      <td>1126006.0</td>\n",
              "      <td>13.866334</td>\n",
              "      <td>7.241117</td>\n",
              "      <td>0.000</td>\n",
              "      <td>7.00</td>\n",
              "      <td>16.00</td>\n",
              "      <td>19.00</td>\n",
              "      <td>23.0</td>\n",
              "    </tr>\n",
              "    <tr>\n",
              "      <th>Precipitable Water</th>\n",
              "      <td>1126006.0</td>\n",
              "      <td>1.562644</td>\n",
              "      <td>0.758127</td>\n",
              "      <td>0.086</td>\n",
              "      <td>1.00</td>\n",
              "      <td>1.40</td>\n",
              "      <td>2.00</td>\n",
              "      <td>6.0</td>\n",
              "    </tr>\n",
              "    <tr>\n",
              "      <th>Wind Direction</th>\n",
              "      <td>1126006.0</td>\n",
              "      <td>216.383988</td>\n",
              "      <td>93.640347</td>\n",
              "      <td>0.000</td>\n",
              "      <td>158.00</td>\n",
              "      <td>242.00</td>\n",
              "      <td>288.00</td>\n",
              "      <td>360.0</td>\n",
              "    </tr>\n",
              "    <tr>\n",
              "      <th>Temperature</th>\n",
              "      <td>1126006.0</td>\n",
              "      <td>16.603726</td>\n",
              "      <td>7.914361</td>\n",
              "      <td>-17.000</td>\n",
              "      <td>11.10</td>\n",
              "      <td>15.20</td>\n",
              "      <td>21.40</td>\n",
              "      <td>46.5</td>\n",
              "    </tr>\n",
              "    <tr>\n",
              "      <th>Relative Humidity</th>\n",
              "      <td>1126006.0</td>\n",
              "      <td>60.907102</td>\n",
              "      <td>25.747490</td>\n",
              "      <td>2.150</td>\n",
              "      <td>39.73</td>\n",
              "      <td>63.87</td>\n",
              "      <td>83.85</td>\n",
              "      <td>100.0</td>\n",
              "    </tr>\n",
              "    <tr>\n",
              "      <th>Dew Point</th>\n",
              "      <td>1126006.0</td>\n",
              "      <td>6.981577</td>\n",
              "      <td>5.796223</td>\n",
              "      <td>-28.600</td>\n",
              "      <td>4.00</td>\n",
              "      <td>8.20</td>\n",
              "      <td>11.00</td>\n",
              "      <td>22.7</td>\n",
              "    </tr>\n",
              "    <tr>\n",
              "      <th>GHI</th>\n",
              "      <td>1126006.0</td>\n",
              "      <td>126.842274</td>\n",
              "      <td>228.626998</td>\n",
              "      <td>0.000</td>\n",
              "      <td>0.00</td>\n",
              "      <td>0.00</td>\n",
              "      <td>158.00</td>\n",
              "      <td>1088.0</td>\n",
              "    </tr>\n",
              "    <tr>\n",
              "      <th>Wind Speed</th>\n",
              "      <td>1126006.0</td>\n",
              "      <td>2.044841</td>\n",
              "      <td>1.316815</td>\n",
              "      <td>0.000</td>\n",
              "      <td>1.00</td>\n",
              "      <td>1.70</td>\n",
              "      <td>2.80</td>\n",
              "      <td>13.0</td>\n",
              "    </tr>\n",
              "  </tbody>\n",
              "</table>\n",
              "</div>\n",
              "      <button class=\"colab-df-convert\" onclick=\"convertToInteractive('df-2626bcd6-f7f3-4c1e-8a74-8f3bc09e5639')\"\n",
              "              title=\"Convert this dataframe to an interactive table.\"\n",
              "              style=\"display:none;\">\n",
              "        \n",
              "  <svg xmlns=\"http://www.w3.org/2000/svg\" height=\"24px\"viewBox=\"0 0 24 24\"\n",
              "       width=\"24px\">\n",
              "    <path d=\"M0 0h24v24H0V0z\" fill=\"none\"/>\n",
              "    <path d=\"M18.56 5.44l.94 2.06.94-2.06 2.06-.94-2.06-.94-.94-2.06-.94 2.06-2.06.94zm-11 1L8.5 8.5l.94-2.06 2.06-.94-2.06-.94L8.5 2.5l-.94 2.06-2.06.94zm10 10l.94 2.06.94-2.06 2.06-.94-2.06-.94-.94-2.06-.94 2.06-2.06.94z\"/><path d=\"M17.41 7.96l-1.37-1.37c-.4-.4-.92-.59-1.43-.59-.52 0-1.04.2-1.43.59L10.3 9.45l-7.72 7.72c-.78.78-.78 2.05 0 2.83L4 21.41c.39.39.9.59 1.41.59.51 0 1.02-.2 1.41-.59l7.78-7.78 2.81-2.81c.8-.78.8-2.07 0-2.86zM5.41 20L4 18.59l7.72-7.72 1.47 1.35L5.41 20z\"/>\n",
              "  </svg>\n",
              "      </button>\n",
              "      \n",
              "  <style>\n",
              "    .colab-df-container {\n",
              "      display:flex;\n",
              "      flex-wrap:wrap;\n",
              "      gap: 12px;\n",
              "    }\n",
              "\n",
              "    .colab-df-convert {\n",
              "      background-color: #E8F0FE;\n",
              "      border: none;\n",
              "      border-radius: 50%;\n",
              "      cursor: pointer;\n",
              "      display: none;\n",
              "      fill: #1967D2;\n",
              "      height: 32px;\n",
              "      padding: 0 0 0 0;\n",
              "      width: 32px;\n",
              "    }\n",
              "\n",
              "    .colab-df-convert:hover {\n",
              "      background-color: #E2EBFA;\n",
              "      box-shadow: 0px 1px 2px rgba(60, 64, 67, 0.3), 0px 1px 3px 1px rgba(60, 64, 67, 0.15);\n",
              "      fill: #174EA6;\n",
              "    }\n",
              "\n",
              "    [theme=dark] .colab-df-convert {\n",
              "      background-color: #3B4455;\n",
              "      fill: #D2E3FC;\n",
              "    }\n",
              "\n",
              "    [theme=dark] .colab-df-convert:hover {\n",
              "      background-color: #434B5C;\n",
              "      box-shadow: 0px 1px 3px 1px rgba(0, 0, 0, 0.15);\n",
              "      filter: drop-shadow(0px 1px 2px rgba(0, 0, 0, 0.3));\n",
              "      fill: #FFFFFF;\n",
              "    }\n",
              "  </style>\n",
              "\n",
              "      <script>\n",
              "        const buttonEl =\n",
              "          document.querySelector('#df-2626bcd6-f7f3-4c1e-8a74-8f3bc09e5639 button.colab-df-convert');\n",
              "        buttonEl.style.display =\n",
              "          google.colab.kernel.accessAllowed ? 'block' : 'none';\n",
              "\n",
              "        async function convertToInteractive(key) {\n",
              "          const element = document.querySelector('#df-2626bcd6-f7f3-4c1e-8a74-8f3bc09e5639');\n",
              "          const dataTable =\n",
              "            await google.colab.kernel.invokeFunction('convertToInteractive',\n",
              "                                                     [key], {});\n",
              "          if (!dataTable) return;\n",
              "\n",
              "          const docLinkHtml = 'Like what you see? Visit the ' +\n",
              "            '<a target=\"_blank\" href=https://colab.research.google.com/notebooks/data_table.ipynb>data table notebook</a>'\n",
              "            + ' to learn more about interactive tables.';\n",
              "          element.innerHTML = '';\n",
              "          dataTable['output_type'] = 'display_data';\n",
              "          await google.colab.output.renderOutput(dataTable, element);\n",
              "          const docLink = document.createElement('div');\n",
              "          docLink.innerHTML = docLinkHtml;\n",
              "          element.appendChild(docLink);\n",
              "        }\n",
              "      </script>\n",
              "    </div>\n",
              "  </div>\n",
              "  "
            ]
          },
          "metadata": {},
          "execution_count": 8
        }
      ],
      "source": [
        "# descriptive stats of features\n",
        "covid_df.iloc[:,6:].describe().T"
      ]
    },
    {
      "cell_type": "markdown",
      "metadata": {
        "id": "PMw-tDxttefc"
      },
      "source": [
        "Let us look at the histograms of features and the target variable."
      ]
    },
    {
      "cell_type": "code",
      "execution_count": null,
      "metadata": {
        "colab": {
          "base_uri": "https://localhost:8080/",
          "height": 34
        },
        "id": "8H_gfioDqQr3",
        "outputId": "5cd428e1-d32f-4c10-c841-41b47613853b"
      },
      "outputs": [
        {
          "output_type": "display_data",
          "data": {
            "text/plain": [
              "<Figure size 1080x864 with 0 Axes>"
            ]
          },
          "metadata": {}
        }
      ],
      "source": [
        "fig = plt.figure(figsize=(15, 12))\n",
        "\n",
        "# loop over columns 17 to end\n",
        "for i in range(covid_df.iloc[:,17:].shape[1]): #for all rows, but column 18 forward for our inspection.\n",
        "    plt.subplot(6, 6, i+1)\n",
        "    f = plt.gca()\n",
        "    f.axes.get_yaxis().set_visible(False)\n",
        "    # f.axes.set_ylim([0, train.shape[0]])\n",
        "    plt.hist(covid_df.iloc[:,17+i], color='#3F5D7D')\n",
        "    plt.title(covid_df.columns[17+i])\n",
        "plt.tight_layout()"
      ]
    },
    {
      "cell_type": "markdown",
      "metadata": {
        "id": "5MMXgjJRQN2O"
      },
      "source": [
        "Let's take a closer look at the distribution of the target variable."
      ]
    },
    {
      "cell_type": "code",
      "execution_count": null,
      "metadata": {
        "colab": {
          "base_uri": "https://localhost:8080/",
          "height": 728
        },
        "id": "7gLxm_LOgFca",
        "outputId": "30bbb7cd-5296-4ec1-ed26-bb7b8d81fe37"
      },
      "outputs": [
        {
          "output_type": "display_data",
          "data": {
            "text/plain": [
              "<Figure size 864x864 with 2 Axes>"
            ],
            "image/png": "[encoded data removed]"
          },
          "metadata": {
            "needs_background": "light"
          }
        }
      ],
      "source": [
        "#Drop some of the name features so that we can look at the correlation of numerical ones below.\n",
        "features_for_plot = covid_df\n",
        "# Plotting the pearson correlation matrix of the features + traget\n",
        "colormap = plt.cm.RdBu\n",
        "plt.figure(figsize=(12,12))\n",
        "plt.title('Pearson Correlation of Features', y=1.05, size=15)\n",
        "sns.heatmap(features_for_plot.corr(),linewidths=0.1,vmax=1.0, square=True, cmap=colormap, linecolor='white', annot=False)\n",
        "plt.show()"
      ]
    },
    {
      "cell_type": "markdown",
      "metadata": {
        "id": "P-s1ev9QRzPG"
      },
      "source": [
        "\n",
        "\n",
        "Seperating the features and the target:"
      ]
    },
    {
      "cell_type": "markdown",
      "metadata": {
        "id": "MvLvPcSpIzda"
      },
      "source": [
        "### 1.3- Creating features and target variable"
      ]
    },
    {
      "cell_type": "code",
      "execution_count": null,
      "metadata": {
        "colab": {
          "base_uri": "https://localhost:8080/"
        },
        "id": "4dd8DLp4pPRh",
        "outputId": "65ef1378-ed41-4c3f-b96d-9aaf094004e4"
      },
      "outputs": [
        {
          "output_type": "stream",
          "name": "stdout",
          "text": [
            "[      0       1       2 ... 1126003 1126004 1126005]\n"
          ]
        },
        {
          "output_type": "execute_result",
          "data": {
            "text/plain": [
              "(1126006, 15)"
            ]
          },
          "metadata": {},
          "execution_count": 12
        }
      ],
      "source": [
        "\n",
        "\n",
        "features = covid_df\n",
        "\n",
        "X = features.values\n",
        "\n",
        "#print(X)\n",
        "y = df['Duration_hour']\n",
        "\n",
        "#Let's shuffle the data to minimize the effect of the orginal order of training/testing data on our results:\n",
        "np.random.seed(42)\n",
        "indices = np.arange(len(X))\n",
        "print(indices)\n",
        "np.random.shuffle(indices)\n",
        "X = X[indices]\n",
        "y = y[indices]\n",
        "X.shape"
      ]
    },
    {
      "cell_type": "code",
      "execution_count": null,
      "metadata": {
        "id": "irNeP35UhP7r"
      },
      "outputs": [],
      "source": [
        "from sklearn.model_selection import train_test_split\n",
        "X_train, X_test, y_train, y_test = train_test_split(X, y, test_size=0.20, random_state=42)"
      ]
    },
    {
      "cell_type": "code",
      "execution_count": null,
      "metadata": {
        "id": "sPkXmfl-V4xi"
      },
      "outputs": [],
      "source": [
        "# Scaling the features using StandardScaler\n",
        "from sklearn.preprocessing import StandardScaler\n",
        "scaler = StandardScaler()\n",
        "X_train_std = scaler.fit_transform(X_train)\n",
        "X_test_std = scaler.transform(X_test)"
      ]
    },
    {
      "cell_type": "code",
      "execution_count": null,
      "metadata": {
        "id": "B2c6_OCfX1Hc"
      },
      "outputs": [],
      "source": [
        "X_train = X_train_std\n",
        "X_test = X_test_std"
      ]
    },
    {
      "cell_type": "markdown",
      "metadata": {
        "id": "aC70CLvkfOz_"
      },
      "source": [
        "## 2- Feed Forward Neural Network"
      ]
    },
    {
      "cell_type": "code",
      "execution_count": null,
      "metadata": {
        "id": "VlWzlikYfVcR"
      },
      "outputs": [],
      "source": [
        "import tensorflow as tf\n",
        "from tensorflow import keras\n",
        "from tensorflow.keras.layers import Dropout, Flatten, Dense\n",
        "from keras import Sequential\n",
        "from tensorflow.nn import relu\n",
        "\n",
        "tf.random.set_seed(21)\n",
        "\n",
        "'''\n",
        "TODO: Create a sequential model with your chosen architecture. Between 1 and 3 hidden layers. \n",
        "A dropout layer for each and one output layer with 1 neuron.\n",
        "Set the number of neurons more or less inverse proportional to the number of layers. \n",
        "So more layers, means fewer neurons in ech.\n",
        "'''\n",
        "#I use 3 hidden layers, thus 3 hidden layers and one output layer equal 4 layers: neurons = 1/4 = 0.25\n",
        "#assuming 0.25 * 4 = 1 neuron per layer - also assuming we do not count the input layer given no weights/bias in that layer \n",
        "#TODO notes above.\n",
        "model = Sequential([\n",
        "    Dense(1, activation = relu), # 1st hidden layer. Dense layer is a layer in which all nodes are connected to all of the nodes of the previous layer\n",
        "    Dropout(.1), # Dropout randomly turns off a proportion of nodes that are specified. It is used for regularizing the network\n",
        "    Dense(1, activation = relu), \n",
        "    Dropout(.1),\n",
        "    Dense(1, activation = relu), \n",
        "    Dropout(.1),\n",
        "     Dense(1, activation = relu),  \n",
        "     Dropout(.1),\n",
        "     Dense(1, activation = relu), \n",
        "    Dropout(.1),\n",
        "    Dense(1) #This is the output. \n",
        "])\n",
        "\n",
        "#TODO\n",
        "model.compile(optimizer=tf.optimizers.Adam(), \n",
        "              loss='mse', #This is what the model will use.\n",
        "              metrics=['mae', 'mse']) #This is what we want printed out for our info. Both Mean Squared Error and Mean Absolute Error.\n",
        "\n"
      ]
    },
    {
      "cell_type": "code",
      "execution_count": null,
      "metadata": {
        "colab": {
          "base_uri": "https://localhost:8080/"
        },
        "id": "H5EMmCtNfWYL",
        "outputId": "cf3ba52d-3260-4ade-85f2-479eec225256"
      },
      "outputs": [
        {
          "output_type": "stream",
          "name": "stdout",
          "text": [
            "\n",
            "......"
          ]
        }
      ],
      "source": [
        "# this helps makes our output less verbose but still shows progress\n",
        "class PrintDot(keras.callbacks.Callback):\n",
        "    def on_epoch_end(self, epoch, logs):\n",
        "        if epoch % 100 == 0: print('')\n",
        "        print('.', end='')\n",
        "\n",
        "#TODO create an early_stop function with a patience of 4. \n",
        "early_stop = keras.callbacks.EarlyStopping(monitor='val_mse', patience=4) \n",
        "\n",
        "# TODO: fit the model on training data with a validation split of 0.1\n",
        "ff_model = model.fit(X_train, y_train, epochs=1000, verbose=0, validation_split = 0.1,\n",
        "                    callbacks=[early_stop, PrintDot()])"
      ]
    },
    {
      "cell_type": "code",
      "execution_count": null,
      "metadata": {
        "colab": {
          "base_uri": "https://localhost:8080/"
        },
        "id": "K_UidipqfmAz",
        "outputId": "19d187dd-4375-4017-8fd6-f8962b1298fe"
      },
      "outputs": [
        {
          "output_type": "stream",
          "name": "stdout",
          "text": [
            "Final Root Mean Square Error on validation set: 47.069\n"
          ]
        }
      ],
      "source": [
        "# create a datafram to store loss, MSE, and MAE for each epoch \n",
        "hist = pd.DataFrame(ff_model.history)\n",
        "hist['epoch'] = ff_model.epoch\n",
        "\n",
        "# TODO: calculate RMSE and print it\n",
        "rmse_final = np.sqrt(float(hist['val_mse'].tail(1)))\n",
        "\n",
        "print('Final Root Mean Square Error on validation set: {}'.format(round(rmse_final, 3)))"
      ]
    },
    {
      "cell_type": "code",
      "execution_count": null,
      "metadata": {
        "colab": {
          "base_uri": "https://localhost:8080/",
          "height": 235
        },
        "id": "1QyakQt4fmjE",
        "outputId": "3475eb73-42b8-4b65-bef4-51babf590361"
      },
      "outputs": [
        {
          "output_type": "execute_result",
          "data": {
            "text/plain": [
              "          loss        mae          mse     val_loss    val_mae      val_mse  \\\n",
              "0  2904.939453   9.897552  2904.939453  2216.466553  11.072337  2216.466553   \n",
              "1  2874.822510  11.379923  2874.822510  2215.491455  11.576988  2215.491455   \n",
              "2  2874.697998  11.522678  2874.697998  2215.502441  11.556357  2215.502441   \n",
              "3  2874.697510  11.525569  2874.697510  2215.501221  11.558199  2215.501221   \n",
              "4  2874.696777  11.532722  2874.696777  2215.528809  11.515509  2215.528809   \n",
              "5  2874.705078  11.499186  2874.705078  2215.492676  11.569556  2215.492676   \n",
              "\n",
              "   epoch  \n",
              "0      0  \n",
              "1      1  \n",
              "2      2  \n",
              "3      3  \n",
              "4      4  \n",
              "5      5  "
            ],
            "text/html": [
              "\n",
              "  <div id=\"df-979f02cb-4272-414d-838d-45ecfe14f95a\">\n",
              "    <div class=\"colab-df-container\">\n",
              "      <div>\n",
              "<style scoped>\n",
              "    .dataframe tbody tr th:only-of-type {\n",
              "        vertical-align: middle;\n",
              "    }\n",
              "\n",
              "    .dataframe tbody tr th {\n",
              "        vertical-align: top;\n",
              "    }\n",
              "\n",
              "    .dataframe thead th {\n",
              "        text-align: right;\n",
              "    }\n",
              "</style>\n",
              "<table border=\"1\" class=\"dataframe\">\n",
              "  <thead>\n",
              "    <tr style=\"text-align: right;\">\n",
              "      <th></th>\n",
              "      <th>loss</th>\n",
              "      <th>mae</th>\n",
              "      <th>mse</th>\n",
              "      <th>val_loss</th>\n",
              "      <th>val_mae</th>\n",
              "      <th>val_mse</th>\n",
              "      <th>epoch</th>\n",
              "    </tr>\n",
              "  </thead>\n",
              "  <tbody>\n",
              "    <tr>\n",
              "      <th>0</th>\n",
              "      <td>2904.939453</td>\n",
              "      <td>9.897552</td>\n",
              "      <td>2904.939453</td>\n",
              "      <td>2216.466553</td>\n",
              "      <td>11.072337</td>\n",
              "      <td>2216.466553</td>\n",
              "      <td>0</td>\n",
              "    </tr>\n",
              "    <tr>\n",
              "      <th>1</th>\n",
              "      <td>2874.822510</td>\n",
              "      <td>11.379923</td>\n",
              "      <td>2874.822510</td>\n",
              "      <td>2215.491455</td>\n",
              "      <td>11.576988</td>\n",
              "      <td>2215.491455</td>\n",
              "      <td>1</td>\n",
              "    </tr>\n",
              "    <tr>\n",
              "      <th>2</th>\n",
              "      <td>2874.697998</td>\n",
              "      <td>11.522678</td>\n",
              "      <td>2874.697998</td>\n",
              "      <td>2215.502441</td>\n",
              "      <td>11.556357</td>\n",
              "      <td>2215.502441</td>\n",
              "      <td>2</td>\n",
              "    </tr>\n",
              "    <tr>\n",
              "      <th>3</th>\n",
              "      <td>2874.697510</td>\n",
              "      <td>11.525569</td>\n",
              "      <td>2874.697510</td>\n",
              "      <td>2215.501221</td>\n",
              "      <td>11.558199</td>\n",
              "      <td>2215.501221</td>\n",
              "      <td>3</td>\n",
              "    </tr>\n",
              "    <tr>\n",
              "      <th>4</th>\n",
              "      <td>2874.696777</td>\n",
              "      <td>11.532722</td>\n",
              "      <td>2874.696777</td>\n",
              "      <td>2215.528809</td>\n",
              "      <td>11.515509</td>\n",
              "      <td>2215.528809</td>\n",
              "      <td>4</td>\n",
              "    </tr>\n",
              "    <tr>\n",
              "      <th>5</th>\n",
              "      <td>2874.705078</td>\n",
              "      <td>11.499186</td>\n",
              "      <td>2874.705078</td>\n",
              "      <td>2215.492676</td>\n",
              "      <td>11.569556</td>\n",
              "      <td>2215.492676</td>\n",
              "      <td>5</td>\n",
              "    </tr>\n",
              "  </tbody>\n",
              "</table>\n",
              "</div>\n",
              "      <button class=\"colab-df-convert\" onclick=\"convertToInteractive('df-979f02cb-4272-414d-838d-45ecfe14f95a')\"\n",
              "              title=\"Convert this dataframe to an interactive table.\"\n",
              "              style=\"display:none;\">\n",
              "        \n",
              "  <svg xmlns=\"http://www.w3.org/2000/svg\" height=\"24px\"viewBox=\"0 0 24 24\"\n",
              "       width=\"24px\">\n",
              "    <path d=\"M0 0h24v24H0V0z\" fill=\"none\"/>\n",
              "    <path d=\"M18.56 5.44l.94 2.06.94-2.06 2.06-.94-2.06-.94-.94-2.06-.94 2.06-2.06.94zm-11 1L8.5 8.5l.94-2.06 2.06-.94-2.06-.94L8.5 2.5l-.94 2.06-2.06.94zm10 10l.94 2.06.94-2.06 2.06-.94-2.06-.94-.94-2.06-.94 2.06-2.06.94z\"/><path d=\"M17.41 7.96l-1.37-1.37c-.4-.4-.92-.59-1.43-.59-.52 0-1.04.2-1.43.59L10.3 9.45l-7.72 7.72c-.78.78-.78 2.05 0 2.83L4 21.41c.39.39.9.59 1.41.59.51 0 1.02-.2 1.41-.59l7.78-7.78 2.81-2.81c.8-.78.8-2.07 0-2.86zM5.41 20L4 18.59l7.72-7.72 1.47 1.35L5.41 20z\"/>\n",
              "  </svg>\n",
              "      </button>\n",
              "      \n",
              "  <style>\n",
              "    .colab-df-container {\n",
              "      display:flex;\n",
              "      flex-wrap:wrap;\n",
              "      gap: 12px;\n",
              "    }\n",
              "\n",
              "    .colab-df-convert {\n",
              "      background-color: #E8F0FE;\n",
              "      border: none;\n",
              "      border-radius: 50%;\n",
              "      cursor: pointer;\n",
              "      display: none;\n",
              "      fill: #1967D2;\n",
              "      height: 32px;\n",
              "      padding: 0 0 0 0;\n",
              "      width: 32px;\n",
              "    }\n",
              "\n",
              "    .colab-df-convert:hover {\n",
              "      background-color: #E2EBFA;\n",
              "      box-shadow: 0px 1px 2px rgba(60, 64, 67, 0.3), 0px 1px 3px 1px rgba(60, 64, 67, 0.15);\n",
              "      fill: #174EA6;\n",
              "    }\n",
              "\n",
              "    [theme=dark] .colab-df-convert {\n",
              "      background-color: #3B4455;\n",
              "      fill: #D2E3FC;\n",
              "    }\n",
              "\n",
              "    [theme=dark] .colab-df-convert:hover {\n",
              "      background-color: #434B5C;\n",
              "      box-shadow: 0px 1px 3px 1px rgba(0, 0, 0, 0.15);\n",
              "      filter: drop-shadow(0px 1px 2px rgba(0, 0, 0, 0.3));\n",
              "      fill: #FFFFFF;\n",
              "    }\n",
              "  </style>\n",
              "\n",
              "      <script>\n",
              "        const buttonEl =\n",
              "          document.querySelector('#df-979f02cb-4272-414d-838d-45ecfe14f95a button.colab-df-convert');\n",
              "        buttonEl.style.display =\n",
              "          google.colab.kernel.accessAllowed ? 'block' : 'none';\n",
              "\n",
              "        async function convertToInteractive(key) {\n",
              "          const element = document.querySelector('#df-979f02cb-4272-414d-838d-45ecfe14f95a');\n",
              "          const dataTable =\n",
              "            await google.colab.kernel.invokeFunction('convertToInteractive',\n",
              "                                                     [key], {});\n",
              "          if (!dataTable) return;\n",
              "\n",
              "          const docLinkHtml = 'Like what you see? Visit the ' +\n",
              "            '<a target=\"_blank\" href=https://colab.research.google.com/notebooks/data_table.ipynb>data table notebook</a>'\n",
              "            + ' to learn more about interactive tables.';\n",
              "          element.innerHTML = '';\n",
              "          dataTable['output_type'] = 'display_data';\n",
              "          await google.colab.output.renderOutput(dataTable, element);\n",
              "          const docLink = document.createElement('div');\n",
              "          docLink.innerHTML = docLinkHtml;\n",
              "          element.appendChild(docLink);\n",
              "        }\n",
              "      </script>\n",
              "    </div>\n",
              "  </div>\n",
              "  "
            ]
          },
          "metadata": {},
          "execution_count": 19
        }
      ],
      "source": [
        "hist"
      ]
    },
    {
      "cell_type": "markdown",
      "metadata": {
        "id": "2tW_nJSne53m"
      },
      "source": [
        "#####Question 1\n",
        "Which column shows how many times the entire training dataset was iterated through before training stoped? [answer1 in Canvas, multiple choice]? "
      ]
    },
    {
      "cell_type": "code",
      "execution_count": null,
      "metadata": {
        "colab": {
          "base_uri": "https://localhost:8080/",
          "height": 283
        },
        "id": "XdQMCFrNfpPF",
        "outputId": "7a0d544f-0852-4b1f-e107-c0942cf482a0"
      },
      "outputs": [
        {
          "output_type": "display_data",
          "data": {
            "text/plain": [
              "<Figure size 432x288 with 1 Axes>"
            ],
            "image/png": "[encoded data removed]"
          },
          "metadata": {
            "needs_background": "light"
          }
        }
      ],
      "source": [
        "# plot validation and training error against number of epochs\n",
        "def plot_history():\n",
        "    plt.figure()\n",
        "    plt.xlabel('Epoch')\n",
        "    plt.ylabel('Mean Square Error')\n",
        "    plt.plot(hist['epoch'], hist['mse'], label='Train Error')\n",
        "    plt.plot(hist['epoch'], hist['val_mse'], label = 'Val Error')\n",
        "    plt.legend()\n",
        "    plt.ylim([0,1])\n",
        "# \n",
        "plot_history()"
      ]
    },
    {
      "cell_type": "markdown",
      "metadata": {
        "id": "mzYM6GkketTm"
      },
      "source": [
        "####Question 2\n",
        "Will increasing patience to a higher number necessarily lead to better  results on the test set (anser in canvas, multiple choice)? "
      ]
    },
    {
      "cell_type": "code",
      "execution_count": null,
      "metadata": {
        "colab": {
          "base_uri": "https://localhost:8080/"
        },
        "id": "pA6Hleb3frWl",
        "outputId": "9da27e05-3be4-4a22-c045-7480bfa4b0ef"
      },
      "outputs": [
        {
          "output_type": "stream",
          "name": "stdout",
          "text": [
            "7038/7038 [==============================] - 12s 2ms/step - loss: 1804.5481 - mae: 11.5108 - mse: 1804.5481\n",
            "Root Mean Square Error on test set: 42.48\n"
          ]
        }
      ],
      "source": [
        "# evaluate the model on the test set, and print RMSE on test set. \n",
        "mse, _, _ = model.evaluate(X_test, y_test)\n",
        "rmse = np.sqrt(mse)\n",
        "print('Root Mean Square Error on test set: {}'.format(round(rmse, 3)))"
      ]
    },
    {
      "cell_type": "markdown",
      "metadata": {
        "id": "jfE2i4LWfWHW"
      },
      "source": [
        "####Question 3\n",
        "Enter your RMSE on the TEST set in Canvas."
      ]
    },
    {
      "cell_type": "markdown",
      "metadata": {
        "id": "7vphQEH5gNfX"
      },
      "source": [
        "####Question 4\n",
        " \n",
        "Use `model.summary()` to get the number of trainable parameters in your model. Answer in Canvas."
      ]
    },
    {
      "cell_type": "code",
      "execution_count": null,
      "metadata": {
        "colab": {
          "base_uri": "https://localhost:8080/"
        },
        "id": "QfA7sPG_dLMP",
        "outputId": "c5234a01-623c-49ef-bc08-8b20e0251c3b"
      },
      "outputs": [
        {
          "output_type": "stream",
          "name": "stdout",
          "text": [
            "Model: \"sequential\"\n",
            "_________________________________________________________________\n",
            " Layer (type)                Output Shape              Param #   \n",
            "=================================================================\n",
            " dense (Dense)               (None, 1)                 16        \n",
            "                                                                 \n",
            " dropout (Dropout)           (None, 1)                 0         \n",
            "                                                                 \n",
            " dense_1 (Dense)             (None, 1)                 2         \n",
            "                                                                 \n",
            " dropout_1 (Dropout)         (None, 1)                 0         \n",
            "                                                                 \n",
            " dense_2 (Dense)             (None, 1)                 2         \n",
            "                                                                 \n",
            " dropout_2 (Dropout)         (None, 1)                 0         \n",
            "                                                                 \n",
            " dense_3 (Dense)             (None, 1)                 2         \n",
            "                                                                 \n",
            " dropout_3 (Dropout)         (None, 1)                 0         \n",
            "                                                                 \n",
            " dense_4 (Dense)             (None, 1)                 2         \n",
            "                                                                 \n",
            " dropout_4 (Dropout)         (None, 1)                 0         \n",
            "                                                                 \n",
            " dense_5 (Dense)             (None, 1)                 2         \n",
            "                                                                 \n",
            "=================================================================\n",
            "Total params: 26\n",
            "Trainable params: 26\n",
            "Non-trainable params: 0\n",
            "_________________________________________________________________\n"
          ]
        }
      ],
      "source": [
        "model.summary()"
      ]
    },
    {
      "cell_type": "markdown",
      "metadata": {
        "id": "pNAgUZ9Lfqk1"
      },
      "source": [
        "Between yourselves, compare the number of trainable parameters and RMSE of your model design to your group mates. Who has the fewest trainable parameters and lower RMSE at the same time? What is the relation between these two? Obviously the lower the number of trainable parameters, the faster the training and precition process is. (You don't need to answer this on Canvas)."
      ]
    },
    {
      "cell_type": "code",
      "execution_count": null,
      "metadata": {
        "id": "jGR2M5Ju5mfR",
        "colab": {
          "base_uri": "https://localhost:8080/"
        },
        "outputId": "fad15b18-0b15-48b8-b23d-0d7b018a46e4"
      },
      "outputs": [
        {
          "output_type": "stream",
          "name": "stdout",
          "text": [
            "\u001b[K     |████████████████████████████████| 135 kB 4.2 MB/s \n",
            "\u001b[K     |████████████████████████████████| 1.6 MB 42.2 MB/s \n",
            "\u001b[?25h"
          ]
        }
      ],
      "source": [
        "!pip install -q -U keras-tuner"
      ]
    },
    {
      "cell_type": "markdown",
      "metadata": {
        "id": "L8kBlhbH1pGw"
      },
      "source": [
        "### 3.1-Create a HyperModel"
      ]
    },
    {
      "cell_type": "code",
      "execution_count": null,
      "metadata": {
        "colab": {
          "base_uri": "https://localhost:8080/"
        },
        "id": "3Pq_vGJUf0WN",
        "outputId": "495345dd-de46-4fae-f2f2-0642b63d4f97"
      },
      "outputs": [
        {
          "output_type": "stream",
          "name": "stderr",
          "text": [
            "/usr/local/lib/python3.7/dist-packages/ipykernel_launcher.py:1: DeprecationWarning: `import kerastuner` is deprecated, please use `import keras_tuner`.\n",
            "  \"\"\"Entry point for launching an IPython kernel.\n"
          ]
        }
      ],
      "source": [
        "import kerastuner as kt\n",
        "from kerastuner import HyperModel"
      ]
    },
    {
      "cell_type": "markdown",
      "metadata": {
        "id": "b8ibGH04i-_x"
      },
      "source": [
        "To keep the computation time managable, **only try relu (no need to try tanh or sigmoid)**, relu works best here. Sigmoid is almost never better than tanh, in any scenario. This holds in a lot of situations)\n",
        ". \n",
        "Instead, work with your groupmates to focus on different number of layers/nodes in each. "
      ]
    },
    {
      "cell_type": "code",
      "execution_count": null,
      "metadata": {
        "id": "ip0SZCW7f4X6"
      },
      "outputs": [],
      "source": [
        "# build a class that inherits from HyperModel\n",
        "class RegressionHyperModel(HyperModel):\n",
        "\n",
        "    def __init__(self, input_shape):\n",
        "        self.input_shape = input_shape    \n",
        "    \n",
        "    def build(self, hp): # define the structure of the network and the searchable space for each param\n",
        "        model = Sequential()\n",
        "        #TODO: Design a hyper parameter space with lose inspiration from the results you generated with your group above.\n",
        "        model.add(\n",
        "            Dense( # add a dense layer\n",
        "                units=hp.Int('units', 1, 18, 2, default=1), \n",
        "                activation=hp.Choice(\n",
        "                      'dense_activation',\n",
        "                    values=['relu'], # different activation functions to test\n",
        "                    default='relu'),\n",
        "                input_shape=input_shape\n",
        "            )\n",
        "        )\n",
        "        model.add( # add dropout with values from 0.0 to 0.3 with increments of 0.1\n",
        "            Dropout(\n",
        "                rate = hp.Float(\n",
        "                    'dropout',\n",
        "                    min_value=0.0, #try out different dropout percentages from 0 to 30 percent \n",
        "                    max_value=0.3,\n",
        "                    default=0.005,\n",
        "                    step=0.1)\n",
        "            )\n",
        "        )\n",
        "        model.add(\n",
        "            Dense( # add a second dense layer\n",
        "                units=hp.Int('units', 1, 28, 2, default=1),\n",
        "                activation=hp.Choice(\n",
        "                    'dense_activation',\n",
        "                    values=['relu'],\n",
        "                    default='relu')\n",
        "            )\n",
        "        )  \n",
        "        model.add(\n",
        "            Dropout( # add a second dropout with values from 0.0 to 0.3 with increments of 0.05\n",
        "                rate = hp.Float(\n",
        "                    'dropout',\n",
        "                    min_value=0.0,\n",
        "                    max_value=0.3,\n",
        "                    default=0.005,\n",
        "                    step=0.05)\n",
        "            )\n",
        "        ) \n",
        "        model.add(\n",
        "            Dense( # add a third dense layer. This is probably an overkill for such a small dataset. But let's try.\n",
        "                units=hp.Int('units', 1, 16, 2, default=1),\n",
        "                activation=hp.Choice(\n",
        "                    'dense_activation',\n",
        "                    values=['relu'],\n",
        "                    default='relu')\n",
        "            )\n",
        "        )  \n",
        "        model.add(\n",
        "            Dropout( # add a third dropout layer\n",
        "                rate = hp.Float(\n",
        "                    'dropout',\n",
        "                    min_value=0.0,\n",
        "                    max_value=0.5,\n",
        "                    default=0.005,\n",
        "                    step=0.05)\n",
        "            )\n",
        "        )  \n",
        "\n",
        "        model.add(\n",
        "            Dense( # add a third dense layer. This is probably an overkill for such a small dataset. But let's try.\n",
        "                units=hp.Int('units', 1, 16, 2, default=1),\n",
        "                activation=hp.Choice(\n",
        "                    'dense_activation',\n",
        "                    values=['relu'],\n",
        "                    default='relu')\n",
        "            )\n",
        "        )  \n",
        "        model.add( # add dropout with values from 0.0 to 0.3 with increments of 0.1\n",
        "            Dropout(\n",
        "                rate = hp.Float(\n",
        "                    'dropout',\n",
        "                    min_value=0.0, #try out different dropout percentages from 0 to 30 percent \n",
        "                    max_value=0.3,\n",
        "                    default=0.005,\n",
        "                    step=0.1)\n",
        "            )\n",
        "        )\n",
        "        model.add(\n",
        "            Dense( # add a third dense layer. This is probably an overkill for such a small dataset. But let's try.\n",
        "                units=hp.Int('units', 1, 16, 2, default=1),\n",
        "                activation=hp.Choice(\n",
        "                    'dense_activation',\n",
        "                    values=['relu'],\n",
        "                    default='relu')\n",
        "            )\n",
        "        )  \n",
        "        model.add( # add dropout with values from 0.0 to 0.3 with increments of 0.1\n",
        "            Dropout(\n",
        "                rate = hp.Float(\n",
        "                    'dropout',\n",
        "                    min_value=0.0, #try out different dropout percentages from 0 to 30 percent \n",
        "                    max_value=0.3,\n",
        "                    default=0.005,\n",
        "                    step=0.1)\n",
        "            )\n",
        "        )\n",
        "        model.add(\n",
        "            Dense( # add a third dense layer. This is probably an overkill for such a small dataset. But let's try.\n",
        "                units=hp.Int('units', 1, 16, 2, default=1),\n",
        "                activation=hp.Choice(\n",
        "                    'dense_activation',\n",
        "                    values=['relu'],\n",
        "                    default='relu')\n",
        "            )\n",
        "        )  \n",
        "        model.add( # add dropout with values from 0.0 to 0.3 with increments of 0.1\n",
        "            Dropout(\n",
        "                rate = hp.Float(\n",
        "                    'dropout',\n",
        "                    min_value=0.0, #try out different dropout percentages from 0 to 30 percent \n",
        "                    max_value=0.3,\n",
        "                    default=0.005,\n",
        "                    step=0.1)\n",
        "            )\n",
        "        )\n",
        "        model.add(\n",
        "            Dense( # add a third dense layer. This is probably an overkill for such a small dataset. But let's try.\n",
        "                units=hp.Int('units', 1, 16, 2, default=1),\n",
        "                activation=hp.Choice(\n",
        "                    'dense_activation',\n",
        "                    values=['relu'],\n",
        "                    default='relu')\n",
        "            )\n",
        "        )  \n",
        "        model.add( # add dropout with values from 0.0 to 0.3 with increments of 0.1\n",
        "            Dropout(\n",
        "                rate = hp.Float(\n",
        "                    'dropout',\n",
        "                    min_value=0.0, #try out different dropout percentages from 0 to 30 percent \n",
        "                    max_value=0.3,\n",
        "                    default=0.005,\n",
        "                    step=0.1)\n",
        "            )\n",
        "        )\n",
        "        model.add(\n",
        "            Dense( # add a third dense layer. This is probably an overkill for such a small dataset. But let's try.\n",
        "                units=hp.Int('units', 1, 16, 2, default=1),\n",
        "                activation=hp.Choice(\n",
        "                    'dense_activation',\n",
        "                    values=['relu'],\n",
        "                    default='relu')\n",
        "            )\n",
        "        )  \n",
        "        model.add( # add dropout with values from 0.0 to 0.3 with increments of 0.1\n",
        "            Dropout(\n",
        "                rate = hp.Float(\n",
        "                    'dropout',\n",
        "                    min_value=0.0, #try out different dropout percentages from 0 to 30 percent \n",
        "                    max_value=0.3,\n",
        "                    default=0.005,\n",
        "                    step=0.1)\n",
        "            )\n",
        "        )\n",
        "        model.add(\n",
        "            Dense( # add a third dense layer. This is probably an overkill for such a small dataset. But let's try.\n",
        "                units=hp.Int('units', 1, 16, 2, default=1),\n",
        "                activation=hp.Choice(\n",
        "                    'dense_activation',\n",
        "                    values=['relu'],\n",
        "                    default='relu')\n",
        "            )\n",
        "        )  \n",
        "        model.add( # add dropout with values from 0.0 to 0.3 with increments of 0.1\n",
        "            Dropout(\n",
        "                rate = hp.Float(\n",
        "                    'dropout',\n",
        "                    min_value=0.0, #try out different dropout percentages from 0 to 30 percent \n",
        "                    max_value=0.3,\n",
        "                    default=0.005,\n",
        "                    step=0.1)\n",
        "            )\n",
        "        )\n",
        "        model.add(\n",
        "            Dense( # add a third dense layer. This is probably an overkill for such a small dataset. But let's try.\n",
        "                units=hp.Int('units', 1, 16, 2, default=1),\n",
        "                activation=hp.Choice(\n",
        "                    'dense_activation',\n",
        "                    values=['relu'],\n",
        "                    default='relu')\n",
        "            )\n",
        "        )  \n",
        "        model.add( # add dropout with values from 0.0 to 0.3 with increments of 0.1\n",
        "            Dropout(\n",
        "                rate = hp.Float(\n",
        "                    'dropout',\n",
        "                    min_value=0.0, #try out different dropout percentages from 0 to 30 percent \n",
        "                    max_value=0.3,\n",
        "                    default=0.005,\n",
        "                    step=0.1)\n",
        "            )\n",
        "        )\n",
        "        model.add(\n",
        "            Dense(1)\n",
        "            )\n",
        "        #For activation, ONLY try RELU. No need to search for tanh.  \n",
        "\n",
        "            \n",
        "        \n",
        "        #Compile\n",
        "        model.compile(\n",
        "            optimizer=keras.optimizers.Adam(\n",
        "                hp.Choice('learning_rate', \n",
        "                          values=[1e-2, 1e-3])), #Took  1e-4 out to run faster in class.\n",
        "                      loss='mse',\n",
        "                      metrics=['mse'])\n",
        "        return model"
      ]
    },
    {
      "cell_type": "code",
      "execution_count": null,
      "metadata": {
        "id": "MKMk173hf6VY"
      },
      "outputs": [],
      "source": [
        "# the number of features\n",
        "input_shape = (X_train.shape[1],) \n",
        "# create an instance of the class RegressionHyperModel \n",
        "hypermodel = RegressionHyperModel(input_shape) "
      ]
    },
    {
      "cell_type": "code",
      "execution_count": null,
      "metadata": {
        "id": "vLPIc7Rif8Zz"
      },
      "outputs": [],
      "source": [
        "# this is defined to clear training output after each run of hyperparam tuning\n",
        "import IPython\n",
        "class ClearTrainingOutput(tf.keras.callbacks.Callback):\n",
        "  def on_train_end(*args, **kwargs):\n",
        "    IPython.display.clear_output(wait = True)"
      ]
    },
    {
      "cell_type": "markdown",
      "metadata": {
        "id": "3ZEwageR1zto"
      },
      "source": [
        "###3.2-Running the HyperBand search"
      ]
    },
    {
      "cell_type": "code",
      "execution_count": null,
      "metadata": {
        "id": "faZ-2vI8f-UZ"
      },
      "outputs": [],
      "source": [
        "\n",
        "from kerastuner import Hyperband\n",
        "# Hyperband optimization \n",
        "tuner_hb = Hyperband( hypermodel,\n",
        "            objective='val_mse', # Name of model metric to optimize \n",
        "            #max_epochs=20, # the maximum number of epochs to train one model. (the same as model.fit, we use early stopping with a patience, so a high max_epochs is fine). Ideally hihger.\n",
        "            factor=4, #the factor by which hyperband throws away the less useful hyperparams\n",
        "            hyperband_iterations=1, #Ideally this should be higher, but we have limited time\n",
        "            seed=21,\n",
        "            overwrite=True)"
      ]
    },
    {
      "cell_type": "code",
      "execution_count": 29,
      "metadata": {
        "id": "-SPzEbLIJaMR"
      },
      "outputs": [],
      "source": [
        "#Perform the search to tune tuner_hb using training data. This will take ~10-20 mins to run.\n",
        "tuner_hb.search(X_train, y_train, epochs=20, validation_split=0.1, verbose=0, \n",
        "                callbacks=[keras.callbacks.EarlyStopping(monitor='val_loss', patience=4), ClearTrainingOutput()])"
      ]
    },
    {
      "cell_type": "markdown",
      "metadata": {
        "id": "YwVHUSTx2EqD"
      },
      "source": [
        "### 3.3-Inspecting and refitting the best model"
      ]
    },
    {
      "cell_type": "code",
      "execution_count": 30,
      "metadata": {
        "id": "3UnGxeBgyn28",
        "colab": {
          "base_uri": "https://localhost:8080/"
        },
        "outputId": "c4b700d5-e720-4815-fb39-213f74e9e8e4"
      },
      "outputs": [
        {
          "output_type": "stream",
          "name": "stdout",
          "text": [
            "7038/7038 [==============================] - 13s 2ms/step - loss: 0.0268 - mse: 0.0268\n"
          ]
        },
        {
          "output_type": "execute_result",
          "data": {
            "text/plain": [
              "[0.026770733296871185, 0.026770733296871185]"
            ]
          },
          "metadata": {},
          "execution_count": 30
        }
      ],
      "source": [
        "best_model_hb = tuner_hb.get_best_models(num_models=1)[0]\n",
        "best_model_hb.evaluate(X_test, y_test)"
      ]
    },
    {
      "cell_type": "code",
      "execution_count": null,
      "metadata": {
        "id": "P7RLIDOsnd44"
      },
      "outputs": [],
      "source": [
        "tuned_model = tuner_hb.get_best_models(1)[0]\n",
        "tuned_model_params = tuned_model.get_config()"
      ]
    },
    {
      "cell_type": "code",
      "execution_count": 32,
      "metadata": {
        "id": "mBI6SoLYnfFd",
        "colab": {
          "base_uri": "https://localhost:8080/"
        },
        "outputId": "229ef9b0-9d1f-442b-8666-ff729b2423a5"
      },
      "outputs": [
        {
          "output_type": "stream",
          "name": "stdout",
          "text": [
            "layer number: 1\n",
            "layer name: dense , activation: relu , number of nodes: 5\n",
            "---------------------------------------\n",
            "layer number: 2\n",
            "layer name: dropout , dropout rate: 0.0\n",
            "---------------------------------------\n",
            "layer number: 3\n",
            "layer name: dense_1 , activation: relu , number of nodes: 5\n",
            "---------------------------------------\n",
            "layer number: 4\n",
            "layer name: dropout_1 , dropout rate: 0.0\n",
            "---------------------------------------\n",
            "layer number: 5\n",
            "layer name: dense_2 , activation: relu , number of nodes: 5\n",
            "---------------------------------------\n",
            "layer number: 6\n",
            "layer name: dropout_2 , dropout rate: 0.0\n",
            "---------------------------------------\n",
            "layer number: 7\n",
            "layer name: dense_3 , activation: relu , number of nodes: 5\n",
            "---------------------------------------\n",
            "layer number: 8\n",
            "layer name: dropout_3 , dropout rate: 0.0\n",
            "---------------------------------------\n",
            "layer number: 9\n",
            "layer name: dense_4 , activation: relu , number of nodes: 5\n",
            "---------------------------------------\n",
            "layer number: 10\n",
            "layer name: dropout_4 , dropout rate: 0.0\n",
            "---------------------------------------\n",
            "layer number: 11\n",
            "layer name: dense_5 , activation: relu , number of nodes: 5\n",
            "---------------------------------------\n",
            "layer number: 12\n",
            "layer name: dropout_5 , dropout rate: 0.0\n",
            "---------------------------------------\n",
            "layer number: 13\n",
            "layer name: dense_6 , activation: relu , number of nodes: 5\n",
            "---------------------------------------\n",
            "layer number: 14\n",
            "layer name: dropout_6 , dropout rate: 0.0\n",
            "---------------------------------------\n",
            "layer number: 15\n",
            "layer name: dense_7 , activation: relu , number of nodes: 5\n",
            "---------------------------------------\n",
            "layer number: 16\n",
            "layer name: dropout_7 , dropout rate: 0.0\n",
            "---------------------------------------\n",
            "layer number: 17\n",
            "layer name: dense_8 , activation: relu , number of nodes: 5\n",
            "---------------------------------------\n",
            "layer number: 18\n",
            "layer name: dropout_8 , dropout rate: 0.0\n",
            "---------------------------------------\n",
            "layer number: 19\n",
            "layer name: dense_9 , activation: relu , number of nodes: 5\n",
            "---------------------------------------\n",
            "layer number: 20\n",
            "layer name: dropout_9 , dropout rate: 0.0\n",
            "---------------------------------------\n"
          ]
        }
      ],
      "source": [
        "for i in range(1, len(tuned_model_params['layers'])-1):\n",
        "  print('layer number: {}'.format(i))\n",
        "  if i%2 == 0:\n",
        "    print('layer name: {}'.format(tuned_model_params['layers'][i]['config']['name']), ', dropout rate: {}'.format(tuned_model_params['layers'][i]['config']['rate']))\n",
        "  else:\n",
        "    print('layer name: {}'.format(tuned_model_params['layers'][i]['config']['name']), ', activation: {}'.format(tuned_model_params['layers'][i]['config']['activation']), ', number of nodes: {}'.format(tuned_model_params['layers'][i]['config']['units']))\n",
        "  print('---------------------------------------')"
      ]
    },
    {
      "cell_type": "code",
      "execution_count": 33,
      "metadata": {
        "id": "yVckeQiagAAT",
        "colab": {
          "base_uri": "https://localhost:8080/"
        },
        "outputId": "841c8a8a-1f42-463f-c5a8-9fcb9da512d4"
      },
      "outputs": [
        {
          "output_type": "stream",
          "name": "stdout",
          "text": [
            "Model: \"sequential\"\n",
            "_________________________________________________________________\n",
            " Layer (type)                Output Shape              Param #   \n",
            "=================================================================\n",
            " dense (Dense)               (None, 5)                 80        \n",
            "                                                                 \n",
            " dropout (Dropout)           (None, 5)                 0         \n",
            "                                                                 \n",
            " dense_1 (Dense)             (None, 5)                 30        \n",
            "                                                                 \n",
            " dropout_1 (Dropout)         (None, 5)                 0         \n",
            "                                                                 \n",
            " dense_2 (Dense)             (None, 5)                 30        \n",
            "                                                                 \n",
            " dropout_2 (Dropout)         (None, 5)                 0         \n",
            "                                                                 \n",
            " dense_3 (Dense)             (None, 5)                 30        \n",
            "                                                                 \n",
            " dropout_3 (Dropout)         (None, 5)                 0         \n",
            "                                                                 \n",
            " dense_4 (Dense)             (None, 5)                 30        \n",
            "                                                                 \n",
            " dropout_4 (Dropout)         (None, 5)                 0         \n",
            "                                                                 \n",
            " dense_5 (Dense)             (None, 5)                 30        \n",
            "                                                                 \n",
            " dropout_5 (Dropout)         (None, 5)                 0         \n",
            "                                                                 \n",
            " dense_6 (Dense)             (None, 5)                 30        \n",
            "                                                                 \n",
            " dropout_6 (Dropout)         (None, 5)                 0         \n",
            "                                                                 \n",
            " dense_7 (Dense)             (None, 5)                 30        \n",
            "                                                                 \n",
            " dropout_7 (Dropout)         (None, 5)                 0         \n",
            "                                                                 \n",
            " dense_8 (Dense)             (None, 5)                 30        \n",
            "                                                                 \n",
            " dropout_8 (Dropout)         (None, 5)                 0         \n",
            "                                                                 \n",
            " dense_9 (Dense)             (None, 5)                 30        \n",
            "                                                                 \n",
            " dropout_9 (Dropout)         (None, 5)                 0         \n",
            "                                                                 \n",
            " dense_10 (Dense)            (None, 1)                 6         \n",
            "                                                                 \n",
            "=================================================================\n",
            "Total params: 356\n",
            "Trainable params: 356\n",
            "Non-trainable params: 0\n",
            "_________________________________________________________________\n"
          ]
        }
      ],
      "source": [
        "best_model_hb = tuner_hb.get_best_models(num_models=1)[0]\n",
        "best_model_hb.summary()"
      ]
    },
    {
      "cell_type": "code",
      "execution_count": 38,
      "metadata": {
        "id": "fWvqOkfigDxz",
        "colab": {
          "base_uri": "https://localhost:8080/"
        },
        "outputId": "de3e2aee-b188-49fb-fb30-fa47aec64fe8"
      },
      "outputs": [
        {
          "output_type": "stream",
          "name": "stdout",
          "text": [
            "\n",
            "........."
          ]
        }
      ],
      "source": [
        "price_tuned_model_hb = best_model_hb.fit(X_train, y_train, epochs=1000, verbose=0, validation_split = 0.1,\n",
        "                    callbacks=[early_stop, PrintDot()])"
      ]
    },
    {
      "cell_type": "code",
      "execution_count": 39,
      "metadata": {
        "id": "0AcPvPcEgFe6",
        "colab": {
          "base_uri": "https://localhost:8080/"
        },
        "outputId": "8a63586d-53f6-4b37-9be6-9b5b50b1cc21"
      },
      "outputs": [
        {
          "output_type": "stream",
          "name": "stdout",
          "text": [
            "Root Mean Square Error on validation set after tuning: 0.879\n"
          ]
        }
      ],
      "source": [
        "hist_tuned_hb = pd.DataFrame(price_tuned_model_hb.history)\n",
        "hist_tuned_hb['epoch'] = price_tuned_model_hb.epoch\n",
        "\n",
        "# show RMSE measure \n",
        "rmse_final = np.sqrt(float(hist_tuned_hb['val_mse'].tail(1)))\n",
        "\n",
        "print('Root Mean Square Error on validation set after tuning: {}'.format(round(rmse_final, 3)))"
      ]
    },
    {
      "cell_type": "code",
      "execution_count": 40,
      "metadata": {
        "id": "3vF-_RlxgH54",
        "colab": {
          "base_uri": "https://localhost:8080/",
          "height": 328
        },
        "outputId": "d35ec33c-06d5-4eed-dd1b-534bfaea1b15"
      },
      "outputs": [
        {
          "output_type": "execute_result",
          "data": {
            "text/plain": [
              "        loss        mse  val_loss   val_mse  epoch\n",
              "0  45.224407  45.224407  0.103889  0.103889      0\n",
              "1   3.201874   3.201874  0.001739  0.001739      1\n",
              "2   4.171281   4.171281  0.087851  0.087851      2\n",
              "3   5.509428   5.509428  0.007754  0.007754      3\n",
              "4   1.228962   1.228962  0.000053  0.000053      4\n",
              "5   5.160777   5.160777  7.483768  7.483768      5\n",
              "6   3.500607   3.500607  0.021846  0.021846      6\n",
              "7   9.654924   9.654924  1.157670  1.157670      7\n",
              "8   1.880678   1.880678  0.772142  0.772142      8"
            ],
            "text/html": [
              "\n",
              "  <div id=\"df-5c7c404b-cc7c-418b-b1f0-0a21dd08d4a3\">\n",
              "    <div class=\"colab-df-container\">\n",
              "      <div>\n",
              "<style scoped>\n",
              "    .dataframe tbody tr th:only-of-type {\n",
              "        vertical-align: middle;\n",
              "    }\n",
              "\n",
              "    .dataframe tbody tr th {\n",
              "        vertical-align: top;\n",
              "    }\n",
              "\n",
              "    .dataframe thead th {\n",
              "        text-align: right;\n",
              "    }\n",
              "</style>\n",
              "<table border=\"1\" class=\"dataframe\">\n",
              "  <thead>\n",
              "    <tr style=\"text-align: right;\">\n",
              "      <th></th>\n",
              "      <th>loss</th>\n",
              "      <th>mse</th>\n",
              "      <th>val_loss</th>\n",
              "      <th>val_mse</th>\n",
              "      <th>epoch</th>\n",
              "    </tr>\n",
              "  </thead>\n",
              "  <tbody>\n",
              "    <tr>\n",
              "      <th>0</th>\n",
              "      <td>45.224407</td>\n",
              "      <td>45.224407</td>\n",
              "      <td>0.103889</td>\n",
              "      <td>0.103889</td>\n",
              "      <td>0</td>\n",
              "    </tr>\n",
              "    <tr>\n",
              "      <th>1</th>\n",
              "      <td>3.201874</td>\n",
              "      <td>3.201874</td>\n",
              "      <td>0.001739</td>\n",
              "      <td>0.001739</td>\n",
              "      <td>1</td>\n",
              "    </tr>\n",
              "    <tr>\n",
              "      <th>2</th>\n",
              "      <td>4.171281</td>\n",
              "      <td>4.171281</td>\n",
              "      <td>0.087851</td>\n",
              "      <td>0.087851</td>\n",
              "      <td>2</td>\n",
              "    </tr>\n",
              "    <tr>\n",
              "      <th>3</th>\n",
              "      <td>5.509428</td>\n",
              "      <td>5.509428</td>\n",
              "      <td>0.007754</td>\n",
              "      <td>0.007754</td>\n",
              "      <td>3</td>\n",
              "    </tr>\n",
              "    <tr>\n",
              "      <th>4</th>\n",
              "      <td>1.228962</td>\n",
              "      <td>1.228962</td>\n",
              "      <td>0.000053</td>\n",
              "      <td>0.000053</td>\n",
              "      <td>4</td>\n",
              "    </tr>\n",
              "    <tr>\n",
              "      <th>5</th>\n",
              "      <td>5.160777</td>\n",
              "      <td>5.160777</td>\n",
              "      <td>7.483768</td>\n",
              "      <td>7.483768</td>\n",
              "      <td>5</td>\n",
              "    </tr>\n",
              "    <tr>\n",
              "      <th>6</th>\n",
              "      <td>3.500607</td>\n",
              "      <td>3.500607</td>\n",
              "      <td>0.021846</td>\n",
              "      <td>0.021846</td>\n",
              "      <td>6</td>\n",
              "    </tr>\n",
              "    <tr>\n",
              "      <th>7</th>\n",
              "      <td>9.654924</td>\n",
              "      <td>9.654924</td>\n",
              "      <td>1.157670</td>\n",
              "      <td>1.157670</td>\n",
              "      <td>7</td>\n",
              "    </tr>\n",
              "    <tr>\n",
              "      <th>8</th>\n",
              "      <td>1.880678</td>\n",
              "      <td>1.880678</td>\n",
              "      <td>0.772142</td>\n",
              "      <td>0.772142</td>\n",
              "      <td>8</td>\n",
              "    </tr>\n",
              "  </tbody>\n",
              "</table>\n",
              "</div>\n",
              "      <button class=\"colab-df-convert\" onclick=\"convertToInteractive('df-5c7c404b-cc7c-418b-b1f0-0a21dd08d4a3')\"\n",
              "              title=\"Convert this dataframe to an interactive table.\"\n",
              "              style=\"display:none;\">\n",
              "        \n",
              "  <svg xmlns=\"http://www.w3.org/2000/svg\" height=\"24px\"viewBox=\"0 0 24 24\"\n",
              "       width=\"24px\">\n",
              "    <path d=\"M0 0h24v24H0V0z\" fill=\"none\"/>\n",
              "    <path d=\"M18.56 5.44l.94 2.06.94-2.06 2.06-.94-2.06-.94-.94-2.06-.94 2.06-2.06.94zm-11 1L8.5 8.5l.94-2.06 2.06-.94-2.06-.94L8.5 2.5l-.94 2.06-2.06.94zm10 10l.94 2.06.94-2.06 2.06-.94-2.06-.94-.94-2.06-.94 2.06-2.06.94z\"/><path d=\"M17.41 7.96l-1.37-1.37c-.4-.4-.92-.59-1.43-.59-.52 0-1.04.2-1.43.59L10.3 9.45l-7.72 7.72c-.78.78-.78 2.05 0 2.83L4 21.41c.39.39.9.59 1.41.59.51 0 1.02-.2 1.41-.59l7.78-7.78 2.81-2.81c.8-.78.8-2.07 0-2.86zM5.41 20L4 18.59l7.72-7.72 1.47 1.35L5.41 20z\"/>\n",
              "  </svg>\n",
              "      </button>\n",
              "      \n",
              "  <style>\n",
              "    .colab-df-container {\n",
              "      display:flex;\n",
              "      flex-wrap:wrap;\n",
              "      gap: 12px;\n",
              "    }\n",
              "\n",
              "    .colab-df-convert {\n",
              "      background-color: #E8F0FE;\n",
              "      border: none;\n",
              "      border-radius: 50%;\n",
              "      cursor: pointer;\n",
              "      display: none;\n",
              "      fill: #1967D2;\n",
              "      height: 32px;\n",
              "      padding: 0 0 0 0;\n",
              "      width: 32px;\n",
              "    }\n",
              "\n",
              "    .colab-df-convert:hover {\n",
              "      background-color: #E2EBFA;\n",
              "      box-shadow: 0px 1px 2px rgba(60, 64, 67, 0.3), 0px 1px 3px 1px rgba(60, 64, 67, 0.15);\n",
              "      fill: #174EA6;\n",
              "    }\n",
              "\n",
              "    [theme=dark] .colab-df-convert {\n",
              "      background-color: #3B4455;\n",
              "      fill: #D2E3FC;\n",
              "    }\n",
              "\n",
              "    [theme=dark] .colab-df-convert:hover {\n",
              "      background-color: #434B5C;\n",
              "      box-shadow: 0px 1px 3px 1px rgba(0, 0, 0, 0.15);\n",
              "      filter: drop-shadow(0px 1px 2px rgba(0, 0, 0, 0.3));\n",
              "      fill: #FFFFFF;\n",
              "    }\n",
              "  </style>\n",
              "\n",
              "      <script>\n",
              "        const buttonEl =\n",
              "          document.querySelector('#df-5c7c404b-cc7c-418b-b1f0-0a21dd08d4a3 button.colab-df-convert');\n",
              "        buttonEl.style.display =\n",
              "          google.colab.kernel.accessAllowed ? 'block' : 'none';\n",
              "\n",
              "        async function convertToInteractive(key) {\n",
              "          const element = document.querySelector('#df-5c7c404b-cc7c-418b-b1f0-0a21dd08d4a3');\n",
              "          const dataTable =\n",
              "            await google.colab.kernel.invokeFunction('convertToInteractive',\n",
              "                                                     [key], {});\n",
              "          if (!dataTable) return;\n",
              "\n",
              "          const docLinkHtml = 'Like what you see? Visit the ' +\n",
              "            '<a target=\"_blank\" href=https://colab.research.google.com/notebooks/data_table.ipynb>data table notebook</a>'\n",
              "            + ' to learn more about interactive tables.';\n",
              "          element.innerHTML = '';\n",
              "          dataTable['output_type'] = 'display_data';\n",
              "          await google.colab.output.renderOutput(dataTable, element);\n",
              "          const docLink = document.createElement('div');\n",
              "          docLink.innerHTML = docLinkHtml;\n",
              "          element.appendChild(docLink);\n",
              "        }\n",
              "      </script>\n",
              "    </div>\n",
              "  </div>\n",
              "  "
            ]
          },
          "metadata": {},
          "execution_count": 40
        }
      ],
      "source": [
        "hist_tuned_hb"
      ]
    },
    {
      "cell_type": "code",
      "execution_count": 41,
      "metadata": {
        "id": "SUE6qEX5gJrC",
        "colab": {
          "base_uri": "https://localhost:8080/"
        },
        "outputId": "38eacb80-3ffa-4c55-d3ff-1522a9e88449"
      },
      "outputs": [
        {
          "output_type": "stream",
          "name": "stdout",
          "text": [
            "7038/7038 [==============================] - 14s 2ms/step - loss: 0.5719 - mse: 0.5719\n",
            "Root Mean Square Error on test set after tuning: 0.756\n",
            "and the optimal learning rate for the optimizer is 0.001\n"
          ]
        }
      ],
      "source": [
        "loss_tuned, mse_tuned = best_model_hb.evaluate(X_test, y_test)\n",
        "best_hps = tuner_hb.get_best_hyperparameters(num_trials = 1)[0]\n",
        "\n",
        "print('Root Mean Square Error on test set after tuning: {}'.format(round(np.sqrt(mse_tuned), 3)))\n",
        "print(\"and the optimal learning rate for the optimizer is {}\".format(best_hps.get('learning_rate')))\n"
      ]
    }
  ],
  "metadata": {
    "accelerator": "GPU",
    "colab": {
      "provenance": [],
      "toc_visible": true,
      "collapsed_sections": [
        "jfE2i4LWfWHW"
      ],
      "include_colab_link": true
    },
    "gpuClass": "standard",
    "kernelspec": {
      "display_name": "Python 3",
      "language": "python",
      "name": "python3"
    },
    "language_info": {
      "codemirror_mode": {
        "name": "ipython",
        "version": 3
      },
      "file_extension": ".py",
      "mimetype": "text/x-python",
      "name": "python",
      "nbconvert_exporter": "python",
      "pygments_lexer": "ipython3",
      "version": "3.7.6"
    }
  },
  "nbformat": 4,
  "nbformat_minor": 0
}