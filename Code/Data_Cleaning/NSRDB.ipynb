{
 "cells": [
  {
   "cell_type": "code",
   "execution_count": null,
   "id": "4143a97f",
   "metadata": {},
   "outputs": [],
   "source": [
    "import pandas as pd\n",
    "from GetNSRDB import *"
   ]
  },
  {
   "cell_type": "code",
   "execution_count": null,
   "id": "1d730e18",
   "metadata": {},
   "outputs": [],
   "source": [
    "#load in the dataframe with census population centriods\n",
    "df_PC = pd.read_csv('/Users/jasminegarland/Desktop/populationcentroids_reeds_US.csv')\n",
    "df_PC.head()"
   ]
  },
  {
   "cell_type": "code",
   "execution_count": null,
   "id": "24b32b37",
   "metadata": {},
   "outputs": [],
   "source": [
    "#group by state and then get CA - CA = 6 \n",
    "df_PC_gb = df_PC.groupby('STATEFP')\n",
    "df_PC_CA = df_PC_gb.get_group(6).reset_index()\n",
    "df_PC_CA.head()"
   ]
  },
  {
   "cell_type": "code",
   "execution_count": null,
   "id": "8d31d2cc",
   "metadata": {},
   "outputs": [],
   "source": [
    "#information needed for data query\n",
    "#info = ['jasmine+garland','research','CUBOULDER','jasmine.garland@colorado.edu']\n",
    "#api_key = 'BsyLh0JS01GQ3cOyUKuEX5QPqo55R2vdtv9cY0Lc4'\n",
    "\n",
    "info = ['jasmine+garland','research','NREL','jasmine.garland@nrel.gov']\n",
    "\n",
    "#API key\n",
    "api_key = 'gNIsxn9uCGmkB6BhujLqxcyo67ExSRhw2S6Klqo4'\n",
    "\n",
    "Path = '/Users/jasminegarland/Desktop/Blackout_Project/NSRDB_Data'"
   ]
  },
  {
   "cell_type": "code",
   "execution_count": null,
   "id": "5e9b1af4",
   "metadata": {},
   "outputs": [],
   "source": [
    "#loop through lat, lon values for each input year\n",
    "years = [2017, 2018, 2019, 2020, 2021]\n",
    "\n",
    "\n",
    "locations_lat = list(df_PC_CA['LATITUDE'])\n",
    "locations_lon = list(df_PC_CA['LONGITUDE'])\n",
    "\n",
    "\n",
    "data_years = []\n",
    "data = pd.DataFrame()\n",
    "df_years = pd.DataFrame()\n",
    "\n",
    "#uses the get_solar_data function to get the nsrdb from the API\n",
    "for i in range(len(years)):\n",
    "    for j in range(len(locations_lat)):\n",
    "        data = get_solar_data(locations_lat[j],locations_lon[j], years[i], api_key, info)\n",
    "        data['Location'] = df_PC_CA['NAME'][j]\n",
    "        data_years.append(data)\n",
    "        df = pd.concat(data_years, axis=0, ignore_index=False) \n",
    "\n",
    "    group = df.groupby(['Location'])\n",
    "\n",
    "    #for now just create df based off location    \n",
    "    for location, name in group:\n",
    "         exec('{} = pd.DataFrame(name)'.format(location.replace(' ','_')))\n",
    "         pd.DataFrame(name).to_csv(Path + \"/\" +location+'_NSRDB.csv')\n"
   ]
  }
 ],
 "metadata": {
  "kernelspec": {
   "display_name": "Python 3 (ipykernel)",
   "language": "python",
   "name": "python3"
  },
  "language_info": {
   "codemirror_mode": {
    "name": "ipython",
    "version": 3
   },
   "file_extension": ".py",
   "mimetype": "text/x-python",
   "name": "python",
   "nbconvert_exporter": "python",
   "pygments_lexer": "ipython3",
   "version": "3.9.12"
  }
 },
 "nbformat": 4,
 "nbformat_minor": 5
}
